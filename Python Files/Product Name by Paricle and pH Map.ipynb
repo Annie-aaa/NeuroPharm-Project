{
 "cells": [
  {
   "cell_type": "markdown",
   "id": "26f4b096",
   "metadata": {},
   "source": [
    "# Creating a Map so I can determine missing Product Names"
   ]
  },
  {
   "cell_type": "code",
   "execution_count": 1,
   "id": "535858b7",
   "metadata": {},
   "outputs": [
    {
     "name": "stdout",
     "output_type": "stream",
     "text": [
      "Particle Size: 25.28561113, pH: 4.814044125 --> Product: Lorazepam 1mg\n",
      "Particle Size: 91.04016506, pH: 6.153958934 --> Product: Sertraline 50mg\n",
      "Particle Size: 111.3931228, pH: 6.182550871 --> Product: Topiramate 25mg\n",
      "Particle Size: 46.17974275, pH: 7.891396294 --> Product: None\n",
      "Particle Size: 96.19397181, pH: 7.236436127 --> Product: Sertraline 50mg\n",
      "Particle Size: 55.77641026, pH: 6.576766991 --> Product: None\n",
      "Particle Size: 74.51214145, pH: 6.94784244 --> Product: Fluoxetine 20mg\n",
      "Particle Size: 89.31731632, pH: 6.474957114 --> Product: Fluoxetine 20mg\n"
     ]
    }
   ],
   "source": [
    "medication_specs = {\n",
    "    \"Fluoxetine 20mg\": {\"particle_mean\": 80, \"particle_std\": 10, \"pH_range\": (5.5, 7.5)},\n",
    "    \"Sertraline 50mg\": {\"particle_mean\": 90, \"particle_std\": 15, \"pH_range\": (6.0, 8.0)},\n",
    "    \"Alprazolam 0.5mg\": {\"particle_mean\": 20, \"particle_std\": 5, \"pH_range\": (4.0, 5.5)},\n",
    "    \"Lorazepam 1mg\": {\"particle_mean\": 25, \"particle_std\": 6, \"pH_range\": (4.0, 5.0)},\n",
    "    \"Clonazepam 0.5mg\": {\"particle_mean\": 30, \"particle_std\": 5, \"pH_range\": (5.0, 6.5)},\n",
    "    \"Methylphenidate 10mg\": {\"particle_mean\": 75, \"particle_std\": 12, \"pH_range\": (6.0, 7.5)},\n",
    "    \"Gabapentin 300mg\": {\"particle_mean\": 100, \"particle_std\": 20, \"pH_range\": (5.0, 6.0)},\n",
    "    \"Topiramate 25mg\": {\"particle_mean\": 110, \"particle_std\": 25, \"pH_range\": (5.0, 7.0)},\n",
    "    \"Fluoxetin 20mg\": {\"particle_mean\": 80, \"particle_std\": 10, \"pH_range\": (5.5, 7.5)},\n",
    "    \"Sertralin 50mg\": {\"particle_mean\": 90, \"particle_std\": 15, \"pH_range\": (6.0, 8.0)},\n",
    "    \"Alprazolam 0.50mg\": {\"particle_mean\": 20, \"particle_std\": 5, \"pH_range\": (4.0, 5.5)},\n",
    "    \"Methylphenidate 10m\": {\"particle_mean\": 75, \"particle_std\": 12, \"pH_range\": (6.0, 7.5)},\n",
    "    \"Topiramate 25mg\": {\"particle_mean\": 110, \"particle_std\": 25, \"pH_range\": (5.0, 7.0)},\n",
    "}\n",
    "\n",
    "# Example particle size and pH level pairs (from your list):\n",
    "data = [\n",
    "    (25.28561113, 4.814044125),\n",
    "    (91.04016506, 6.153958934),\n",
    "    (111.3931228, 6.182550871),\n",
    "    (46.17974275, 7.891396294),\n",
    "    (96.19397181, 7.236436127),\n",
    "    (55.77641026, 6.576766991),\n",
    "    (74.51214145, 6.94784244),\n",
    "    (89.31731632, 6.474957114),\n",
    "]\n",
    "\n",
    "# Function to find the matching product for each pair of (particle_size, pH)\n",
    "def find_matching_product(particle_size, pH, medication_specs):\n",
    "    for product, specs in medication_specs.items():\n",
    "        # Check if the particle size is within the acceptable range\n",
    "        particle_range_min = specs[\"particle_mean\"] - specs[\"particle_std\"]\n",
    "        particle_range_max = specs[\"particle_mean\"] + specs[\"particle_std\"]\n",
    "        \n",
    "        # Check if pH level is within the acceptable range\n",
    "        pH_min, pH_max = specs[\"pH_range\"]\n",
    "        \n",
    "        if (particle_range_min <= particle_size <= particle_range_max) and (pH_min <= pH <= pH_max):\n",
    "            return product  # Return the matching product name\n",
    "    \n",
    "    return None  # Return None if no match found\n",
    "\n",
    "# Loop through the data and print out the corresponding product names\n",
    "matched_products = []\n",
    "for particle_size, pH in data:\n",
    "    product = find_matching_product(particle_size, pH, medication_specs)\n",
    "    matched_products.append((particle_size, pH, product))\n",
    "\n",
    "# Print the results\n",
    "for pair in matched_products:\n",
    "    print(f\"Particle Size: {pair[0]}, pH: {pair[1]} --> Product: {pair[2]}\")\n"
   ]
  }
 ],
 "metadata": {
  "kernelspec": {
   "display_name": "datanerd",
   "language": "python",
   "name": "python3"
  },
  "language_info": {
   "codemirror_mode": {
    "name": "ipython",
    "version": 3
   },
   "file_extension": ".py",
   "mimetype": "text/x-python",
   "name": "python",
   "nbconvert_exporter": "python",
   "pygments_lexer": "ipython3",
   "version": "3.11.11"
  }
 },
 "nbformat": 4,
 "nbformat_minor": 5
}
